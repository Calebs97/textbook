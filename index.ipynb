{
 "cells": [
  {
   "cell_type": "markdown",
   "metadata": {},
   "source": [
    "# Probability for Data Science\n",
    "\n",
    "## The Textbook for the Probability for Data Science Course\n",
    "\n",
    "This textbook is built using Gitbook and is publicly viewable at http://textbook.prob140.org/."
   ]
  },
  {
   "cell_type": "code",
   "execution_count": 8,
   "metadata": {
    "collapsed": true
   },
   "outputs": [],
   "source": [
    "import yaml,glob,shutil"
   ]
  },
  {
   "cell_type": "code",
   "execution_count": 15,
   "metadata": {},
   "outputs": [
    {
     "data": {
      "text/plain": [
       "{'folder': 'Fundamentals',\n",
       " 'name': 'Fundamentals',\n",
       " 'sections': ['Fundamentals.ipynb',\n",
       "  'Outcome_Space_and_Events.ipynb',\n",
       "  'Equally_Likely_Outcomes.ipynb',\n",
       "  'Collisions_in_Hashing.ipynb',\n",
       "  'Birthday_Problem.ipynb',\n",
       "  'Exponential_Approximation.ipynb']}"
      ]
     },
     "execution_count": 15,
     "metadata": {},
     "output_type": "execute_result"
    }
   ],
   "source": [
    "configuration = yaml.load(open('notebooks/config.yml'))\n",
    "configuration[0]"
   ]
  },
  {
   "cell_type": "code",
   "execution_count": 30,
   "metadata": {},
   "outputs": [],
   "source": [
    "outline = \\\n",
    "\"\"\"{}\n",
    "------\n",
    "\n",
    "{{% include \"../notebooks-html/{}\" %}}\n",
    "\"\"\"\n",
    "\n",
    "def make_md_file(title,ipynb_name):\n",
    "    filled_outline = outline.format(title,ipynb_name.replace('ipynb','html'))\n",
    "    with open('notebooks-md/%s'%(ipynb_name.replace('ipynb','md')),'w') as f:\n",
    "        f.write(filled_outline)\n",
    "    \n",
    "shutil.copy2('notebooks/To_the_Student.ipynb','notebooks-flat/To_the_Student.ipynb')\n",
    "make_md_file('To The Student','To_the_Student.ipynb')\n",
    "\n",
    "\n",
    "for n,chapter in zip(range(1,len(configuration)+1),configuration):\n",
    "    for i,section in enumerate(chapter['sections']):\n",
    "        src = ('notebooks/%s/%s'%(chapter['folder'],section))\n",
    "        dest = ('notebooks-flat/%d_%d_%s'%(n,i,section))\n",
    "        ipynb_file = dest.rpartition('/')[2]\n",
    "        make_md_file(section[:-6].replace('_',' '),ipynb_file)\n",
    "        shutil.copy2(src,dest)\n",
    "        "
   ]
  },
  {
   "cell_type": "code",
   "execution_count": 31,
   "metadata": {
    "scrolled": false
   },
   "outputs": [],
   "source": [
    "SUMMARY_head = \"\"\"\n",
    "# Summary\n",
    "\n",
    "* [To the Student](ch1/to_the_student.md)\n",
    "\n",
    "\"\"\"\n",
    "\n",
    "chapter_summaries = [SUMMARY_head]\n",
    "\n",
    "for n,chapter in zip(range(1,len(configuration)+1),configuration):\n",
    "    entries = ['* [Chapter %d: %s](notebooks-md/%d_0_%s)'%(n,chapter['name'],n,chapter['sections'][0].replace('ipynb','md'))]\n",
    "    for i,section in list(enumerate(chapter['sections']))[1:]:\n",
    "        section_name = section.partition('.')[0].replace('_',' ')\n",
    "        section_md = section.replace('ipynb','md')\n",
    "        section_entry = ('\\t* [%d.%d %s](notebooks-md/%d_%d_%s)'%(n,i,section_name,n,i,section_md))\n",
    "        entries.append(section_entry)\n",
    "    chapter_summaries.append('\\n'.join(entries)+'\\n')\n",
    "\n",
    "SUMMARY_md =\"\\n\".join(chapter_summaries)\n",
    "with open(\"SUMMARY.md\",\"w\") as f:\n",
    "    f.write(SUMMARY_md)"
   ]
  }
 ],
 "metadata": {
  "anaconda-cloud": {},
  "kernelspec": {
   "display_name": "Python 3",
   "language": "python",
   "name": "python3"
  },
  "language_info": {
   "codemirror_mode": {
    "name": "ipython",
    "version": 3
   },
   "file_extension": ".py",
   "mimetype": "text/x-python",
   "name": "python",
   "nbconvert_exporter": "python",
   "pygments_lexer": "ipython3",
   "version": "3.5.2"
  },
  "widgets": {
   "state": {},
   "version": "1.1.2"
  }
 },
 "nbformat": 4,
 "nbformat_minor": 1
}
